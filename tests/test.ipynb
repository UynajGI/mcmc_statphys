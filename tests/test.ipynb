{
 "cells": [
  {
   "cell_type": "code",
   "execution_count": 148,
   "metadata": {},
   "outputs": [],
   "source": [
    "from one import model\n",
    "from one import algorithm\n",
    "from one import method\n",
    "import one as mcsp\n"
   ]
  },
  {
   "cell_type": "code",
   "execution_count": 2,
   "metadata": {},
   "outputs": [],
   "source": [
    "import uuid\n",
    "import pandas as pd\n",
    "import numpy as np\n",
    "import matplotlib.pyplot as plt\n",
    "import random\n",
    "import statsmodels.tsa.stattools as ts\n",
    "import scipy.stats as scs\n",
    "from tqdm import tqdm, trange\n",
    "import copy\n",
    "from typing import List, Dict, Tuple, Any, Union, Optional\n",
    "\n",
    "# 设定全局随机种子\n",
    "random.seed(0)\n"
   ]
  },
  {
   "cell_type": "code",
   "execution_count": 3,
   "metadata": {},
   "outputs": [],
   "source": [
    "from one.model import Ising\n"
   ]
  },
  {
   "cell_type": "code",
   "execution_count": 4,
   "metadata": {},
   "outputs": [],
   "source": [
    "m = Ising(50)\n",
    "f = mcsp.Wolff(m)\n"
   ]
  },
  {
   "cell_type": "code",
   "execution_count": 8,
   "metadata": {},
   "outputs": [
    {
     "name": "stderr",
     "output_type": "stream",
     "text": [
      "                                                 \r"
     ]
    }
   ],
   "source": [
    "uid = f.equil_sample(2.1, 200)"
   ]
  },
  {
   "cell_type": "code",
   "execution_count": null,
   "metadata": {},
   "outputs": [
    {
     "data": {
      "text/plain": [
       "{'uid': ['73e7d70b043a11ee81d300e04c6807cc',\n",
       "  '7ee65729043a11eeb1db00e04c6807cc',\n",
       "  '8a8ad5a1043a11eeb18500e04c6807cc'],\n",
       " 'T': array([0.296, 0.308, 0.32 ])}"
      ]
     },
     "execution_count": 189,
     "metadata": {},
     "output_type": "execute_result"
    }
   ],
   "source": [
    "import animatplot as amp\n",
    "%matplotlib widget\n",
    "images = f.getcolumn(uid=uid,column='spin').values\n",
    "imgnum = images.shape[0]\n",
    "# animate the images\n",
    "plt.figure(figsize=(5,5))\n",
    "plt.close('all')\n",
    "fps = 24\n",
    "t = np.linspace(0, 1, imgnum)\n",
    "timeline = amp.Timeline(t, units='/1', fps=fps)\n",
    "block = amp.blocks.Imshow(images, cmap='gray')\n",
    "anim = amp.Animation([block], timeline)\n",
    "plt.tick_params(labelbottom=False,\n",
    "                labelleft=False,\n",
    "                labelright=False,\n",
    "                labeltop=False)\n",
    "plt.tick_params(bottom=False,\n",
    "                left=False,\n",
    "                right=False,\n",
    "                top=False)\n",
    "plt.title('Spin Configuration')\n",
    "anim.controls()\n",
    "# anim.save_gif('test')\n",
    "# plt.show()"
   ]
  }
 ],
 "metadata": {
  "kernelspec": {
   "display_name": "Python 3.9.1 64-bit",
   "language": "python",
   "name": "python3"
  },
  "language_info": {
   "codemirror_mode": {
    "name": "ipython",
    "version": 3
   },
   "file_extension": ".py",
   "mimetype": "text/x-python",
   "name": "python",
   "nbconvert_exporter": "python",
   "pygments_lexer": "ipython3",
   "version": "3.9.8"
  },
  "orig_nbformat": 4,
  "vscode": {
   "interpreter": {
    "hash": "858d929d6783abd6bf03ca3868847e012e8b5e0976f67e218f6ac8fd3c4646f8"
   }
  }
 },
 "nbformat": 4,
 "nbformat_minor": 2
}
