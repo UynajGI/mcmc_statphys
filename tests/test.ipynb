{
 "cells": [
  {
   "cell_type": "code",
   "execution_count": 1,
   "metadata": {},
   "outputs": [],
   "source": [
    "import test as mcsp"
   ]
  },
  {
   "cell_type": "code",
   "execution_count": 2,
   "metadata": {},
   "outputs": [],
   "source": [
    "from test import model"
   ]
  },
  {
   "cell_type": "code",
   "execution_count": 3,
   "metadata": {},
   "outputs": [],
   "source": [
    "from test import algorithm"
   ]
  },
  {
   "cell_type": "code",
   "execution_count": 4,
   "metadata": {},
   "outputs": [],
   "source": [
    "import uuid\n",
    "import pandas as pd\n",
    "import numpy as np"
   ]
  },
  {
   "cell_type": "code",
   "execution_count": 5,
   "metadata": {},
   "outputs": [],
   "source": [
    "m = model.Ising(10)\n",
    "f = algorithm.Metropolis(m)"
   ]
  },
  {
   "cell_type": "code",
   "execution_count": 6,
   "metadata": {},
   "outputs": [
    {
     "data": {
      "text/plain": [
       "{'uid': ['01236132f3c711ed8e1cb831b5777aab',\n",
       "  '067b036cf3c711edb710b831b5777aab',\n",
       "  '0bf3de3cf3c711edab3db831b5777aab',\n",
       "  '11810ec9f3c711ed8c73b831b5777aab',\n",
       "  '1735a92df3c711eda988b831b5777aab'],\n",
       " 'T': array([1. , 1.5, 2. , 2.5, 3. ])}"
      ]
     },
     "execution_count": 6,
     "metadata": {},
     "output_type": "execute_result"
    }
   ],
   "source": [
    "uid_T_dic = f.param_sample(1000)"
   ]
  }
 ],
 "metadata": {
  "kernelspec": {
   "display_name": "Python 3.9.1 64-bit",
   "language": "python",
   "name": "python3"
  },
  "language_info": {
   "codemirror_mode": {
    "name": "ipython",
    "version": 3
   },
   "file_extension": ".py",
   "mimetype": "text/x-python",
   "name": "python",
   "nbconvert_exporter": "python",
   "pygments_lexer": "ipython3",
   "version": "3.9.1"
  },
  "orig_nbformat": 4,
  "vscode": {
   "interpreter": {
    "hash": "858d929d6783abd6bf03ca3868847e012e8b5e0976f67e218f6ac8fd3c4646f8"
   }
  }
 },
 "nbformat": 4,
 "nbformat_minor": 2
}
