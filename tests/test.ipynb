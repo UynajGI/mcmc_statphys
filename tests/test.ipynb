{
 "cells": [
  {
   "cell_type": "code",
   "execution_count": 1,
   "metadata": {},
   "outputs": [],
   "source": [
    "import test as mcsp"
   ]
  },
  {
   "cell_type": "code",
   "execution_count": 2,
   "metadata": {},
   "outputs": [],
   "source": [
    "from test import model"
   ]
  },
  {
   "cell_type": "code",
   "execution_count": 3,
   "metadata": {},
   "outputs": [],
   "source": [
    "from test import algorithm"
   ]
  },
  {
   "cell_type": "code",
   "execution_count": 4,
   "metadata": {},
   "outputs": [],
   "source": [
    "import uuid\n",
    "import pandas as pd\n",
    "import numpy as np"
   ]
  },
  {
   "cell_type": "code",
   "execution_count": 5,
   "metadata": {},
   "outputs": [],
   "source": [
    "iter_data: pd.DataFrame = pd.DataFrame(columns=[\n",
    "            \"uid\",\n",
    "            \"iter\",\n",
    "            \"T\",\n",
    "            \"H\",\n",
    "            \"energy\",\n",
    "            \"magnetization\",\n",
    "            \"spin\",\n",
    "        ])\n",
    "iter_data.set_index([\"uid\", \"iter\"], inplace=True)"
   ]
  },
  {
   "cell_type": "code",
   "execution_count": 24,
   "metadata": {},
   "outputs": [],
   "source": [
    "iter_data.loc[(1,1),:] = [1,2,3,4,5]\n",
    "iter_data.loc[(1,2),:] = [1,2,3,4,5]\n",
    "iter_data.at[(1,1),'spin'] = np.random.rand(3,3)\n",
    "iter_data.at[(1,2),'spin'] = np.random.rand(3,3)"
   ]
  },
  {
   "cell_type": "code",
   "execution_count": 25,
   "metadata": {},
   "outputs": [
    {
     "data": {
      "text/html": [
       "<div>\n",
       "<style scoped>\n",
       "    .dataframe tbody tr th:only-of-type {\n",
       "        vertical-align: middle;\n",
       "    }\n",
       "\n",
       "    .dataframe tbody tr th {\n",
       "        vertical-align: top;\n",
       "    }\n",
       "\n",
       "    .dataframe thead th {\n",
       "        text-align: right;\n",
       "    }\n",
       "</style>\n",
       "<table border=\"1\" class=\"dataframe\">\n",
       "  <thead>\n",
       "    <tr style=\"text-align: right;\">\n",
       "      <th></th>\n",
       "      <th></th>\n",
       "      <th>T</th>\n",
       "      <th>H</th>\n",
       "      <th>energy</th>\n",
       "      <th>magnetization</th>\n",
       "      <th>spin</th>\n",
       "    </tr>\n",
       "    <tr>\n",
       "      <th>uid</th>\n",
       "      <th>iter</th>\n",
       "      <th></th>\n",
       "      <th></th>\n",
       "      <th></th>\n",
       "      <th></th>\n",
       "      <th></th>\n",
       "    </tr>\n",
       "  </thead>\n",
       "  <tbody>\n",
       "    <tr>\n",
       "      <th rowspan=\"2\" valign=\"top\">1</th>\n",
       "      <th>1</th>\n",
       "      <td>1</td>\n",
       "      <td>2</td>\n",
       "      <td>3</td>\n",
       "      <td>4</td>\n",
       "      <td>[[0.8980049247110389, 0.29492803719021377, 0.7...</td>\n",
       "    </tr>\n",
       "    <tr>\n",
       "      <th>2</th>\n",
       "      <td>1</td>\n",
       "      <td>2</td>\n",
       "      <td>3</td>\n",
       "      <td>4</td>\n",
       "      <td>[[0.14954591037379816, 0.5337704678549962, 0.0...</td>\n",
       "    </tr>\n",
       "  </tbody>\n",
       "</table>\n",
       "</div>"
      ],
      "text/plain": [
       "          T  H energy magnetization   \n",
       "uid iter                              \n",
       "1   1     1  2      3             4  \\\n",
       "    2     1  2      3             4   \n",
       "\n",
       "                                                       spin  \n",
       "uid iter                                                     \n",
       "1   1     [[0.8980049247110389, 0.29492803719021377, 0.7...  \n",
       "    2     [[0.14954591037379816, 0.5337704678549962, 0.0...  "
      ]
     },
     "execution_count": 25,
     "metadata": {},
     "output_type": "execute_result"
    }
   ],
   "source": [
    "iter_data"
   ]
  },
  {
   "cell_type": "code",
   "execution_count": 26,
   "metadata": {},
   "outputs": [
    {
     "data": {
      "text/plain": [
       "array([[1.49545910e-01, 5.33770468e-01, 4.60031921e-04],\n",
       "       [8.81871905e-01, 3.02991695e-01, 3.89776331e-01],\n",
       "       [2.23090337e-01, 7.85434458e-01, 2.84328871e-01]])"
      ]
     },
     "execution_count": 26,
     "metadata": {},
     "output_type": "execute_result"
    }
   ],
   "source": [
    "iter_data.loc[1].loc[iter_data.loc[1].index.max()].spin"
   ]
  },
  {
   "cell_type": "code",
   "execution_count": 6,
   "metadata": {},
   "outputs": [],
   "source": [
    "m = model.Ising(10)\n",
    "f = algorithm.Metropolis(m)"
   ]
  },
  {
   "cell_type": "code",
   "execution_count": 7,
   "metadata": {},
   "outputs": [
    {
     "data": {
      "text/plain": [
       "array([], dtype=object)"
      ]
     },
     "execution_count": 7,
     "metadata": {},
     "output_type": "execute_result"
    }
   ],
   "source": [
    "f.iter_data.index.get_level_values('uid').values"
   ]
  },
  {
   "cell_type": "code",
   "execution_count": 12,
   "metadata": {},
   "outputs": [],
   "source": [
    "uid = uuid.uuid1().hex"
   ]
  },
  {
   "cell_type": "code",
   "execution_count": 8,
   "metadata": {},
   "outputs": [],
   "source": [
    "f.equil_sample(1,1000)"
   ]
  },
  {
   "cell_type": "code",
   "execution_count": 19,
   "metadata": {},
   "outputs": [
    {
     "data": {
      "text/plain": [
       "<test.model.Ising at 0x15fca0c9040>"
      ]
     },
     "execution_count": 19,
     "metadata": {},
     "output_type": "execute_result"
    }
   ],
   "source": [
    "f.iter_sample(1,uid)"
   ]
  },
  {
   "cell_type": "code",
   "execution_count": 20,
   "metadata": {},
   "outputs": [
    {
     "data": {
      "text/html": [
       "<div>\n",
       "<style scoped>\n",
       "    .dataframe tbody tr th:only-of-type {\n",
       "        vertical-align: middle;\n",
       "    }\n",
       "\n",
       "    .dataframe tbody tr th {\n",
       "        vertical-align: top;\n",
       "    }\n",
       "\n",
       "    .dataframe thead th {\n",
       "        text-align: right;\n",
       "    }\n",
       "</style>\n",
       "<table border=\"1\" class=\"dataframe\">\n",
       "  <thead>\n",
       "    <tr style=\"text-align: right;\">\n",
       "      <th></th>\n",
       "      <th></th>\n",
       "      <th>T</th>\n",
       "      <th>H</th>\n",
       "      <th>energy</th>\n",
       "      <th>magnetization</th>\n",
       "      <th>spin</th>\n",
       "    </tr>\n",
       "    <tr>\n",
       "      <th>uid</th>\n",
       "      <th>iter</th>\n",
       "      <th></th>\n",
       "      <th></th>\n",
       "      <th></th>\n",
       "      <th></th>\n",
       "      <th></th>\n",
       "    </tr>\n",
       "  </thead>\n",
       "  <tbody>\n",
       "    <tr>\n",
       "      <th rowspan=\"5\" valign=\"top\">5521d264f3bc11ed84e3b831b5777aab</th>\n",
       "      <th>1</th>\n",
       "      <td>1</td>\n",
       "      <td>0</td>\n",
       "      <td>-8.0</td>\n",
       "      <td>0.04</td>\n",
       "      <td>[[1, 1, -1, -1, 1, -1, 1, 1, -1, 1], [1, -1, 1...</td>\n",
       "    </tr>\n",
       "    <tr>\n",
       "      <th>2</th>\n",
       "      <td>1</td>\n",
       "      <td>0</td>\n",
       "      <td>-8.0</td>\n",
       "      <td>0.04</td>\n",
       "      <td>[[1, 1, -1, -1, 1, -1, 1, 1, -1, -1], [1, -1, ...</td>\n",
       "    </tr>\n",
       "    <tr>\n",
       "      <th>3</th>\n",
       "      <td>1</td>\n",
       "      <td>0</td>\n",
       "      <td>-12.0</td>\n",
       "      <td>0.02</td>\n",
       "      <td>[[1, 1, -1, -1, 1, -1, 1, 1, -1, -1], [1, -1, ...</td>\n",
       "    </tr>\n",
       "    <tr>\n",
       "      <th>4</th>\n",
       "      <td>1</td>\n",
       "      <td>0</td>\n",
       "      <td>-12.0</td>\n",
       "      <td>0.04</td>\n",
       "      <td>[[1, 1, -1, -1, 1, -1, 1, 1, -1, -1], [1, -1, ...</td>\n",
       "    </tr>\n",
       "    <tr>\n",
       "      <th>5</th>\n",
       "      <td>1</td>\n",
       "      <td>0</td>\n",
       "      <td>-12.0</td>\n",
       "      <td>0.06</td>\n",
       "      <td>[[1, 1, -1, -1, 1, -1, 1, 1, -1, -1], [1, -1, ...</td>\n",
       "    </tr>\n",
       "    <tr>\n",
       "      <th>...</th>\n",
       "      <th>...</th>\n",
       "      <td>...</td>\n",
       "      <td>...</td>\n",
       "      <td>...</td>\n",
       "      <td>...</td>\n",
       "      <td>...</td>\n",
       "    </tr>\n",
       "    <tr>\n",
       "      <th rowspan=\"5\" valign=\"top\">825a8337f3bc11edae4eb831b5777aab</th>\n",
       "      <th>2</th>\n",
       "      <td>1</td>\n",
       "      <td>0</td>\n",
       "      <td>-20.0</td>\n",
       "      <td>0.0</td>\n",
       "      <td>[[1, 1, -1, -1, 1, -1, 1, 1, -1, 1], [1, -1, 1...</td>\n",
       "    </tr>\n",
       "    <tr>\n",
       "      <th>3</th>\n",
       "      <td>1</td>\n",
       "      <td>0</td>\n",
       "      <td>-24.0</td>\n",
       "      <td>0.02</td>\n",
       "      <td>[[1, 1, -1, -1, 1, -1, 1, 1, -1, 1], [1, -1, 1...</td>\n",
       "    </tr>\n",
       "    <tr>\n",
       "      <th>4</th>\n",
       "      <td>1</td>\n",
       "      <td>0</td>\n",
       "      <td>-24.0</td>\n",
       "      <td>0.02</td>\n",
       "      <td>[[1, 1, -1, -1, 1, -1, 1, 1, -1, 1], [1, -1, 1...</td>\n",
       "    </tr>\n",
       "    <tr>\n",
       "      <th>5</th>\n",
       "      <td>1</td>\n",
       "      <td>0</td>\n",
       "      <td>-28.0</td>\n",
       "      <td>0.0</td>\n",
       "      <td>[[1, 1, -1, -1, 1, -1, 1, 1, -1, 1], [1, -1, 1...</td>\n",
       "    </tr>\n",
       "    <tr>\n",
       "      <th>6</th>\n",
       "      <td>1</td>\n",
       "      <td>0</td>\n",
       "      <td>-28.0</td>\n",
       "      <td>0.02</td>\n",
       "      <td>[[1, 1, -1, -1, 1, -1, 1, 1, -1, 1], [1, -1, 1...</td>\n",
       "    </tr>\n",
       "  </tbody>\n",
       "</table>\n",
       "<p>1007 rows × 5 columns</p>\n",
       "</div>"
      ],
      "text/plain": [
       "                                       T  H energy magnetization   \n",
       "uid                              iter                              \n",
       "5521d264f3bc11ed84e3b831b5777aab 1     1  0   -8.0          0.04  \\\n",
       "                                 2     1  0   -8.0          0.04   \n",
       "                                 3     1  0  -12.0          0.02   \n",
       "                                 4     1  0  -12.0          0.04   \n",
       "                                 5     1  0  -12.0          0.06   \n",
       "...                                   .. ..    ...           ...   \n",
       "825a8337f3bc11edae4eb831b5777aab 2     1  0  -20.0           0.0   \n",
       "                                 3     1  0  -24.0          0.02   \n",
       "                                 4     1  0  -24.0          0.02   \n",
       "                                 5     1  0  -28.0           0.0   \n",
       "                                 6     1  0  -28.0          0.02   \n",
       "\n",
       "                                                                                    spin  \n",
       "uid                              iter                                                     \n",
       "5521d264f3bc11ed84e3b831b5777aab 1     [[1, 1, -1, -1, 1, -1, 1, 1, -1, 1], [1, -1, 1...  \n",
       "                                 2     [[1, 1, -1, -1, 1, -1, 1, 1, -1, -1], [1, -1, ...  \n",
       "                                 3     [[1, 1, -1, -1, 1, -1, 1, 1, -1, -1], [1, -1, ...  \n",
       "                                 4     [[1, 1, -1, -1, 1, -1, 1, 1, -1, -1], [1, -1, ...  \n",
       "                                 5     [[1, 1, -1, -1, 1, -1, 1, 1, -1, -1], [1, -1, ...  \n",
       "...                                                                                  ...  \n",
       "825a8337f3bc11edae4eb831b5777aab 2     [[1, 1, -1, -1, 1, -1, 1, 1, -1, 1], [1, -1, 1...  \n",
       "                                 3     [[1, 1, -1, -1, 1, -1, 1, 1, -1, 1], [1, -1, 1...  \n",
       "                                 4     [[1, 1, -1, -1, 1, -1, 1, 1, -1, 1], [1, -1, 1...  \n",
       "                                 5     [[1, 1, -1, -1, 1, -1, 1, 1, -1, 1], [1, -1, 1...  \n",
       "                                 6     [[1, 1, -1, -1, 1, -1, 1, 1, -1, 1], [1, -1, 1...  \n",
       "\n",
       "[1007 rows x 5 columns]"
      ]
     },
     "execution_count": 20,
     "metadata": {},
     "output_type": "execute_result"
    }
   ],
   "source": [
    "f.iter_data"
   ]
  }
 ],
 "metadata": {
  "kernelspec": {
   "display_name": "Python 3.9.1 64-bit",
   "language": "python",
   "name": "python3"
  },
  "language_info": {
   "codemirror_mode": {
    "name": "ipython",
    "version": 3
   },
   "file_extension": ".py",
   "mimetype": "text/x-python",
   "name": "python",
   "nbconvert_exporter": "python",
   "pygments_lexer": "ipython3",
   "version": "3.9.1"
  },
  "orig_nbformat": 4,
  "vscode": {
   "interpreter": {
    "hash": "858d929d6783abd6bf03ca3868847e012e8b5e0976f67e218f6ac8fd3c4646f8"
   }
  }
 },
 "nbformat": 4,
 "nbformat_minor": 2
}
