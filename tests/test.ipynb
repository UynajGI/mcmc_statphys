{
 "cells": [
  {
   "cell_type": "code",
   "execution_count": 1,
   "metadata": {},
   "outputs": [],
   "source": [
    "import test as mcsp"
   ]
  },
  {
   "cell_type": "code",
   "execution_count": 2,
   "metadata": {},
   "outputs": [],
   "source": [
    "from test import model"
   ]
  },
  {
   "cell_type": "code",
   "execution_count": 3,
   "metadata": {},
   "outputs": [],
   "source": [
    "from test import algorithm"
   ]
  },
  {
   "cell_type": "code",
   "execution_count": 4,
   "metadata": {},
   "outputs": [],
   "source": [
    "from test import analysis"
   ]
  },
  {
   "cell_type": "code",
   "execution_count": 5,
   "metadata": {},
   "outputs": [],
   "source": [
    "import uuid\n",
    "import pandas as pd\n",
    "import numpy as np\n",
    "import matplotlib.pyplot as plt"
   ]
  },
  {
   "cell_type": "code",
   "execution_count": 6,
   "metadata": {},
   "outputs": [],
   "source": [
    "m = model.Ising(10)\n",
    "f = algorithm.Anneal(m)"
   ]
  },
  {
   "cell_type": "code",
   "execution_count": 7,
   "metadata": {},
   "outputs": [],
   "source": [
    "f = algorithm.Metropolis(m)"
   ]
  },
  {
   "cell_type": "code",
   "execution_count": 8,
   "metadata": {},
   "outputs": [],
   "source": [
    "uid = f.equil_sample(2,1000)"
   ]
  },
  {
   "cell_type": "code",
   "execution_count": 9,
   "metadata": {},
   "outputs": [
    {
     "data": {
      "text/html": [
       "<div>\n",
       "<style scoped>\n",
       "    .dataframe tbody tr th:only-of-type {\n",
       "        vertical-align: middle;\n",
       "    }\n",
       "\n",
       "    .dataframe tbody tr th {\n",
       "        vertical-align: top;\n",
       "    }\n",
       "\n",
       "    .dataframe thead th {\n",
       "        text-align: right;\n",
       "    }\n",
       "</style>\n",
       "<table border=\"1\" class=\"dataframe\">\n",
       "  <thead>\n",
       "    <tr style=\"text-align: right;\">\n",
       "      <th></th>\n",
       "      <th></th>\n",
       "      <th>T</th>\n",
       "      <th>H</th>\n",
       "      <th>energy</th>\n",
       "      <th>magnetization</th>\n",
       "      <th>spin</th>\n",
       "    </tr>\n",
       "    <tr>\n",
       "      <th>uid</th>\n",
       "      <th>iter</th>\n",
       "      <th></th>\n",
       "      <th></th>\n",
       "      <th></th>\n",
       "      <th></th>\n",
       "      <th></th>\n",
       "    </tr>\n",
       "  </thead>\n",
       "  <tbody>\n",
       "    <tr>\n",
       "      <th rowspan=\"11\" valign=\"top\">fb2d7f42f3e211ed99e4b831b5777aab</th>\n",
       "      <th>1</th>\n",
       "      <td>2</td>\n",
       "      <td>0</td>\n",
       "      <td>-8.0</td>\n",
       "      <td>-0.04</td>\n",
       "      <td>[[-1, 1, 1, 1, -1, 1, -1, 1, 1, -1], [1, -1, -...</td>\n",
       "    </tr>\n",
       "    <tr>\n",
       "      <th>2</th>\n",
       "      <td>2</td>\n",
       "      <td>0</td>\n",
       "      <td>-8.0</td>\n",
       "      <td>-2</td>\n",
       "      <td>[[-1, 1, 1, 1, -1, 1, -1, 1, 1, -1], [1, -1, -...</td>\n",
       "    </tr>\n",
       "    <tr>\n",
       "      <th>3</th>\n",
       "      <td>2</td>\n",
       "      <td>0</td>\n",
       "      <td>-12.0</td>\n",
       "      <td>-4</td>\n",
       "      <td>[[-1, 1, 1, 1, -1, 1, -1, 1, 1, -1], [1, -1, -...</td>\n",
       "    </tr>\n",
       "    <tr>\n",
       "      <th>4</th>\n",
       "      <td>2</td>\n",
       "      <td>0</td>\n",
       "      <td>-20.0</td>\n",
       "      <td>-2</td>\n",
       "      <td>[[-1, 1, 1, 1, -1, 1, -1, 1, 1, -1], [1, -1, -...</td>\n",
       "    </tr>\n",
       "    <tr>\n",
       "      <th>5</th>\n",
       "      <td>2</td>\n",
       "      <td>0</td>\n",
       "      <td>-20.0</td>\n",
       "      <td>0</td>\n",
       "      <td>[[-1, 1, 1, 1, -1, 1, -1, 1, 1, -1], [1, -1, -...</td>\n",
       "    </tr>\n",
       "    <tr>\n",
       "      <th>...</th>\n",
       "      <td>...</td>\n",
       "      <td>...</td>\n",
       "      <td>...</td>\n",
       "      <td>...</td>\n",
       "      <td>...</td>\n",
       "    </tr>\n",
       "    <tr>\n",
       "      <th>996</th>\n",
       "      <td>2</td>\n",
       "      <td>0</td>\n",
       "      <td>-116.0</td>\n",
       "      <td>-10</td>\n",
       "      <td>[[-1, -1, -1, -1, -1, -1, -1, -1, 1, -1], [-1,...</td>\n",
       "    </tr>\n",
       "    <tr>\n",
       "      <th>997</th>\n",
       "      <td>2</td>\n",
       "      <td>0</td>\n",
       "      <td>-116.0</td>\n",
       "      <td>-10</td>\n",
       "      <td>[[-1, -1, -1, -1, -1, -1, -1, -1, 1, -1], [1, ...</td>\n",
       "    </tr>\n",
       "    <tr>\n",
       "      <th>998</th>\n",
       "      <td>2</td>\n",
       "      <td>0</td>\n",
       "      <td>-116.0</td>\n",
       "      <td>-10</td>\n",
       "      <td>[[-1, -1, -1, -1, -1, -1, -1, -1, 1, -1], [1, ...</td>\n",
       "    </tr>\n",
       "    <tr>\n",
       "      <th>999</th>\n",
       "      <td>2</td>\n",
       "      <td>0</td>\n",
       "      <td>-116.0</td>\n",
       "      <td>-12</td>\n",
       "      <td>[[-1, -1, -1, -1, -1, -1, -1, -1, 1, -1], [1, ...</td>\n",
       "    </tr>\n",
       "    <tr>\n",
       "      <th>1000</th>\n",
       "      <td>2</td>\n",
       "      <td>0</td>\n",
       "      <td>-116.0</td>\n",
       "      <td>-12</td>\n",
       "      <td>[[-1, -1, -1, -1, -1, -1, -1, -1, 1, -1], [1, ...</td>\n",
       "    </tr>\n",
       "  </tbody>\n",
       "</table>\n",
       "<p>1000 rows × 5 columns</p>\n",
       "</div>"
      ],
      "text/plain": [
       "                                       T  H energy magnetization   \n",
       "uid                              iter                              \n",
       "fb2d7f42f3e211ed99e4b831b5777aab 1     2  0   -8.0         -0.04  \\\n",
       "                                 2     2  0   -8.0            -2   \n",
       "                                 3     2  0  -12.0            -4   \n",
       "                                 4     2  0  -20.0            -2   \n",
       "                                 5     2  0  -20.0             0   \n",
       "...                                   .. ..    ...           ...   \n",
       "                                 996   2  0 -116.0           -10   \n",
       "                                 997   2  0 -116.0           -10   \n",
       "                                 998   2  0 -116.0           -10   \n",
       "                                 999   2  0 -116.0           -12   \n",
       "                                 1000  2  0 -116.0           -12   \n",
       "\n",
       "                                                                                    spin  \n",
       "uid                              iter                                                     \n",
       "fb2d7f42f3e211ed99e4b831b5777aab 1     [[-1, 1, 1, 1, -1, 1, -1, 1, 1, -1], [1, -1, -...  \n",
       "                                 2     [[-1, 1, 1, 1, -1, 1, -1, 1, 1, -1], [1, -1, -...  \n",
       "                                 3     [[-1, 1, 1, 1, -1, 1, -1, 1, 1, -1], [1, -1, -...  \n",
       "                                 4     [[-1, 1, 1, 1, -1, 1, -1, 1, 1, -1], [1, -1, -...  \n",
       "                                 5     [[-1, 1, 1, 1, -1, 1, -1, 1, 1, -1], [1, -1, -...  \n",
       "...                                                                                  ...  \n",
       "                                 996   [[-1, -1, -1, -1, -1, -1, -1, -1, 1, -1], [-1,...  \n",
       "                                 997   [[-1, -1, -1, -1, -1, -1, -1, -1, 1, -1], [1, ...  \n",
       "                                 998   [[-1, -1, -1, -1, -1, -1, -1, -1, 1, -1], [1, ...  \n",
       "                                 999   [[-1, -1, -1, -1, -1, -1, -1, -1, 1, -1], [1, ...  \n",
       "                                 1000  [[-1, -1, -1, -1, -1, -1, -1, -1, 1, -1], [1, ...  \n",
       "\n",
       "[1000 rows x 5 columns]"
      ]
     },
     "execution_count": 9,
     "metadata": {},
     "output_type": "execute_result"
    }
   ],
   "source": [
    "f.iter_data"
   ]
  }
 ],
 "metadata": {
  "kernelspec": {
   "display_name": "Python 3.9.1 64-bit",
   "language": "python",
   "name": "python3"
  },
  "language_info": {
   "codemirror_mode": {
    "name": "ipython",
    "version": 3
   },
   "file_extension": ".py",
   "mimetype": "text/x-python",
   "name": "python",
   "nbconvert_exporter": "python",
   "pygments_lexer": "ipython3",
   "version": "3.9.1"
  },
  "orig_nbformat": 4,
  "vscode": {
   "interpreter": {
    "hash": "858d929d6783abd6bf03ca3868847e012e8b5e0976f67e218f6ac8fd3c4646f8"
   }
  }
 },
 "nbformat": 4,
 "nbformat_minor": 2
}
