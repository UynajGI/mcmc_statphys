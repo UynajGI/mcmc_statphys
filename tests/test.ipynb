{
 "cells": [
  {
   "cell_type": "code",
   "execution_count": 1,
   "metadata": {},
   "outputs": [],
   "source": [
    "import test as mcsp"
   ]
  },
  {
   "cell_type": "code",
   "execution_count": 2,
   "metadata": {},
   "outputs": [],
   "source": [
    "from test import model"
   ]
  },
  {
   "cell_type": "code",
   "execution_count": 3,
   "metadata": {},
   "outputs": [],
   "source": [
    "from test import algorithm"
   ]
  },
  {
   "cell_type": "code",
   "execution_count": 4,
   "metadata": {},
   "outputs": [],
   "source": [
    "import uuid\n",
    "import pandas as pd\n",
    "import numpy as np"
   ]
  },
  {
   "cell_type": "code",
   "execution_count": 5,
   "metadata": {},
   "outputs": [],
   "source": [
    "m = model.Ising(10)\n",
    "f = algorithm.Wolff(m)"
   ]
  },
  {
   "cell_type": "code",
   "execution_count": 9,
   "metadata": {},
   "outputs": [],
   "source": [
    "f.equil_sample(1,100)"
   ]
  },
  {
   "cell_type": "code",
   "execution_count": 10,
   "metadata": {},
   "outputs": [
    {
     "data": {
      "text/html": [
       "<div>\n",
       "<style scoped>\n",
       "    .dataframe tbody tr th:only-of-type {\n",
       "        vertical-align: middle;\n",
       "    }\n",
       "\n",
       "    .dataframe tbody tr th {\n",
       "        vertical-align: top;\n",
       "    }\n",
       "\n",
       "    .dataframe thead th {\n",
       "        text-align: right;\n",
       "    }\n",
       "</style>\n",
       "<table border=\"1\" class=\"dataframe\">\n",
       "  <thead>\n",
       "    <tr style=\"text-align: right;\">\n",
       "      <th></th>\n",
       "      <th></th>\n",
       "      <th>T</th>\n",
       "      <th>H</th>\n",
       "      <th>energy</th>\n",
       "      <th>magnetization</th>\n",
       "      <th>spin</th>\n",
       "    </tr>\n",
       "    <tr>\n",
       "      <th>uid</th>\n",
       "      <th>iter</th>\n",
       "      <th></th>\n",
       "      <th></th>\n",
       "      <th></th>\n",
       "      <th></th>\n",
       "      <th></th>\n",
       "    </tr>\n",
       "  </thead>\n",
       "  <tbody>\n",
       "    <tr>\n",
       "      <th>c172b96ff3ca11ed8094b831b5777aab</th>\n",
       "      <th>1</th>\n",
       "      <td>1</td>\n",
       "      <td>0</td>\n",
       "      <td>-24.0</td>\n",
       "      <td>-0.14</td>\n",
       "      <td>[[-1, -1, -1, -1, -1, -1, 1, -1, -1, -1], [-1,...</td>\n",
       "    </tr>\n",
       "    <tr>\n",
       "      <th rowspan=\"10\" valign=\"top\">ddf616a6f3ca11edad05b831b5777aab</th>\n",
       "      <th>1</th>\n",
       "      <td>1</td>\n",
       "      <td>0</td>\n",
       "      <td>-20.0</td>\n",
       "      <td>-0.04</td>\n",
       "      <td>[[-1, -1, -1, -1, -1, -1, -1, -1, -1, -1], [-1...</td>\n",
       "    </tr>\n",
       "    <tr>\n",
       "      <th>2</th>\n",
       "      <td>1</td>\n",
       "      <td>0</td>\n",
       "      <td>-24.0</td>\n",
       "      <td>-0.06</td>\n",
       "      <td>[[-1, -1, -1, -1, -1, -1, -1, -1, -1, -1], [-1...</td>\n",
       "    </tr>\n",
       "    <tr>\n",
       "      <th>3</th>\n",
       "      <td>1</td>\n",
       "      <td>0</td>\n",
       "      <td>-68.0</td>\n",
       "      <td>0.3</td>\n",
       "      <td>[[-1, -1, -1, -1, -1, -1, -1, -1, -1, -1], [-1...</td>\n",
       "    </tr>\n",
       "    <tr>\n",
       "      <th>4</th>\n",
       "      <td>1</td>\n",
       "      <td>0</td>\n",
       "      <td>-192.0</td>\n",
       "      <td>-0.98</td>\n",
       "      <td>[[-1, -1, -1, -1, -1, -1, -1, -1, -1, -1], [-1...</td>\n",
       "    </tr>\n",
       "    <tr>\n",
       "      <th>...</th>\n",
       "      <td>...</td>\n",
       "      <td>...</td>\n",
       "      <td>...</td>\n",
       "      <td>...</td>\n",
       "      <td>...</td>\n",
       "    </tr>\n",
       "    <tr>\n",
       "      <th>96</th>\n",
       "      <td>1</td>\n",
       "      <td>0</td>\n",
       "      <td>-200.0</td>\n",
       "      <td>-1.0</td>\n",
       "      <td>[[-1, -1, -1, -1, -1, -1, -1, -1, -1, -1], [-1...</td>\n",
       "    </tr>\n",
       "    <tr>\n",
       "      <th>97</th>\n",
       "      <td>1</td>\n",
       "      <td>0</td>\n",
       "      <td>-200.0</td>\n",
       "      <td>1.0</td>\n",
       "      <td>[[-1, -1, -1, -1, -1, -1, -1, -1, -1, -1], [-1...</td>\n",
       "    </tr>\n",
       "    <tr>\n",
       "      <th>98</th>\n",
       "      <td>1</td>\n",
       "      <td>0</td>\n",
       "      <td>-200.0</td>\n",
       "      <td>-1.0</td>\n",
       "      <td>[[-1, -1, -1, -1, -1, -1, -1, -1, -1, -1], [-1...</td>\n",
       "    </tr>\n",
       "    <tr>\n",
       "      <th>99</th>\n",
       "      <td>1</td>\n",
       "      <td>0</td>\n",
       "      <td>-200.0</td>\n",
       "      <td>1.0</td>\n",
       "      <td>[[-1, -1, -1, -1, -1, -1, -1, -1, -1, -1], [-1...</td>\n",
       "    </tr>\n",
       "    <tr>\n",
       "      <th>100</th>\n",
       "      <td>1</td>\n",
       "      <td>0</td>\n",
       "      <td>-200.0</td>\n",
       "      <td>-1.0</td>\n",
       "      <td>[[-1, -1, -1, -1, -1, -1, -1, -1, -1, -1], [-1...</td>\n",
       "    </tr>\n",
       "  </tbody>\n",
       "</table>\n",
       "<p>101 rows × 5 columns</p>\n",
       "</div>"
      ],
      "text/plain": [
       "                                       T  H energy magnetization   \n",
       "uid                              iter                              \n",
       "c172b96ff3ca11ed8094b831b5777aab 1     1  0  -24.0         -0.14  \\\n",
       "ddf616a6f3ca11edad05b831b5777aab 1     1  0  -20.0         -0.04   \n",
       "                                 2     1  0  -24.0         -0.06   \n",
       "                                 3     1  0  -68.0           0.3   \n",
       "                                 4     1  0 -192.0         -0.98   \n",
       "...                                   .. ..    ...           ...   \n",
       "                                 96    1  0 -200.0          -1.0   \n",
       "                                 97    1  0 -200.0           1.0   \n",
       "                                 98    1  0 -200.0          -1.0   \n",
       "                                 99    1  0 -200.0           1.0   \n",
       "                                 100   1  0 -200.0          -1.0   \n",
       "\n",
       "                                                                                    spin  \n",
       "uid                              iter                                                     \n",
       "c172b96ff3ca11ed8094b831b5777aab 1     [[-1, -1, -1, -1, -1, -1, 1, -1, -1, -1], [-1,...  \n",
       "ddf616a6f3ca11edad05b831b5777aab 1     [[-1, -1, -1, -1, -1, -1, -1, -1, -1, -1], [-1...  \n",
       "                                 2     [[-1, -1, -1, -1, -1, -1, -1, -1, -1, -1], [-1...  \n",
       "                                 3     [[-1, -1, -1, -1, -1, -1, -1, -1, -1, -1], [-1...  \n",
       "                                 4     [[-1, -1, -1, -1, -1, -1, -1, -1, -1, -1], [-1...  \n",
       "...                                                                                  ...  \n",
       "                                 96    [[-1, -1, -1, -1, -1, -1, -1, -1, -1, -1], [-1...  \n",
       "                                 97    [[-1, -1, -1, -1, -1, -1, -1, -1, -1, -1], [-1...  \n",
       "                                 98    [[-1, -1, -1, -1, -1, -1, -1, -1, -1, -1], [-1...  \n",
       "                                 99    [[-1, -1, -1, -1, -1, -1, -1, -1, -1, -1], [-1...  \n",
       "                                 100   [[-1, -1, -1, -1, -1, -1, -1, -1, -1, -1], [-1...  \n",
       "\n",
       "[101 rows x 5 columns]"
      ]
     },
     "execution_count": 10,
     "metadata": {},
     "output_type": "execute_result"
    }
   ],
   "source": [
    "f.iter_data"
   ]
  }
 ],
 "metadata": {
  "kernelspec": {
   "display_name": "Python 3.9.1 64-bit",
   "language": "python",
   "name": "python3"
  },
  "language_info": {
   "codemirror_mode": {
    "name": "ipython",
    "version": 3
   },
   "file_extension": ".py",
   "mimetype": "text/x-python",
   "name": "python",
   "nbconvert_exporter": "python",
   "pygments_lexer": "ipython3",
   "version": "3.9.1"
  },
  "orig_nbformat": 4,
  "vscode": {
   "interpreter": {
    "hash": "858d929d6783abd6bf03ca3868847e012e8b5e0976f67e218f6ac8fd3c4646f8"
   }
  }
 },
 "nbformat": 4,
 "nbformat_minor": 2
}
