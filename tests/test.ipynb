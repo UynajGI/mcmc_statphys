{
 "cells": [
  {
   "cell_type": "code",
   "execution_count": 1,
   "metadata": {},
   "outputs": [],
   "source": [
    "from one import model\n",
    "from one import algorithm\n",
    "from one import analysis\n",
    "from one import draw"
   ]
  },
  {
   "cell_type": "code",
   "execution_count": 2,
   "metadata": {},
   "outputs": [],
   "source": [
    "import uuid\n",
    "import pandas as pd\n",
    "import numpy as np\n",
    "import matplotlib.pyplot as plt\n",
    "from tqdm import tqdm, trange"
   ]
  },
  {
   "cell_type": "code",
   "execution_count": 18,
   "metadata": {},
   "outputs": [],
   "source": [
    "m = model.Ising(50)\n",
    "f = algorithm.Metropolis(m)\n",
    "uid = uuid.uuid1().hex\n"
   ]
  },
  {
   "cell_type": "code",
   "execution_count": 19,
   "metadata": {},
   "outputs": [
    {
     "name": "stderr",
     "output_type": "stream",
     "text": [
      "100%|██████████| 3000/3000 [03:56<00:00, 12.68it/s]\n"
     ]
    }
   ],
   "source": [
    "f.equil_sample(2.5,3000,uid=uid)\n",
    "a = draw.Animation(f)\n",
    "a.animate(uid)"
   ]
  },
  {
   "cell_type": "code",
   "execution_count": 6,
   "metadata": {},
   "outputs": [],
   "source": [
    "from matplotlib import animation\n",
    "from matplotlib.animation import HTMLWriter\n",
    "import os\n",
    "%matplotlib widget\n",
    "\n",
    "fig, ax = plt.subplots(figsize=(5, 5))\n",
    "spin_lst = f.iter_data.loc[uid, 'spin'].tolist()\n",
    "def init():\n",
    "    ax.imshow(spin_lst[0], cmap='gray')\n",
    "    ax.axis('off')\n",
    "    return ax\n",
    "\n",
    "\n",
    "def update(iter):\n",
    "    ax.clear()\n",
    "    ax.imshow(spin_lst[iter], cmap='gray')\n",
    "    ax.set_title('iter: {}'.format(iter))\n",
    "    ax.axis('off')\n",
    "    return ax\n",
    "\n",
    "# interval = int(5000/len(spin_lst))\n",
    "ani = animation.FuncAnimation(fig=fig,\n",
    "                              func=update,\n",
    "                              frames=range(len(spin_lst)))\n",
    "\n",
    "mywriter = HTMLWriter(fps=60)\n",
    "ani.save('myAnimation.html',writer=mywriter)\n",
    "plt.close()"
   ]
  }
 ],
 "metadata": {
  "kernelspec": {
   "display_name": "Python 3.9.1 64-bit",
   "language": "python",
   "name": "python3"
  },
  "language_info": {
   "codemirror_mode": {
    "name": "ipython",
    "version": 3
   },
   "file_extension": ".py",
   "mimetype": "text/x-python",
   "name": "python",
   "nbconvert_exporter": "python",
   "pygments_lexer": "ipython3",
   "version": "3.9.1"
  },
  "orig_nbformat": 4,
  "vscode": {
   "interpreter": {
    "hash": "858d929d6783abd6bf03ca3868847e012e8b5e0976f67e218f6ac8fd3c4646f8"
   }
  }
 },
 "nbformat": 4,
 "nbformat_minor": 2
}
