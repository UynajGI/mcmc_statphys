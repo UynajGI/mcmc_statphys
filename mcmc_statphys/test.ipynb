{
 "cells": [
  {
   "cell_type": "code",
   "execution_count": 1,
   "metadata": {},
   "outputs": [],
   "source": [
    "from mcmc_statphys import "
   ]
  },
  {
   "cell_type": "code",
   "execution_count": 2,
   "metadata": {},
   "outputs": [
    {
     "ename": "ValueError",
     "evalue": "T_min should be less than T_max",
     "output_type": "error",
     "traceback": [
      "\u001b[1;31m---------------------------------------------------------------------------\u001b[0m",
      "\u001b[1;31mValueError\u001b[0m                                Traceback (most recent call last)",
      "Cell \u001b[1;32mIn[2], line 2\u001b[0m\n\u001b[0;32m      1\u001b[0m model \u001b[38;5;241m=\u001b[39m Ising(\u001b[38;5;241m20\u001b[39m)\n\u001b[1;32m----> 2\u001b[0m s \u001b[38;5;241m=\u001b[39m \u001b[43mParameterSample\u001b[49m\u001b[43m(\u001b[49m\u001b[43mmodel\u001b[49m\u001b[43m)\u001b[49m\n",
      "File \u001b[1;32mc:\\Users\\UyanjGI\\OneDrive\\package\\mcmc_statphys\\mcmc_statphys\\sample.py:129\u001b[0m, in \u001b[0;36mParameterSample.__init__\u001b[1;34m(self, model, *args, **kwargs)\u001b[0m\n\u001b[0;32m    127\u001b[0m \u001b[39mself\u001b[39m\u001b[39m.\u001b[39mrowmodel \u001b[39m=\u001b[39m copy\u001b[39m.\u001b[39mdeepcopy(model)\n\u001b[0;32m    128\u001b[0m \u001b[39mself\u001b[39m\u001b[39m.\u001b[39m_init_parameter()\n\u001b[1;32m--> 129\u001b[0m \u001b[39mself\u001b[39;49m\u001b[39m.\u001b[39;49m_init_paramlst()\n",
      "File \u001b[1;32mc:\\Users\\UyanjGI\\OneDrive\\package\\mcmc_statphys\\mcmc_statphys\\sample.py:167\u001b[0m, in \u001b[0;36mParameterSample._init_paramlst\u001b[1;34m(self)\u001b[0m\n\u001b[0;32m    165\u001b[0m \u001b[39m# 判断输入是否合法\u001b[39;00m\n\u001b[0;32m    166\u001b[0m \u001b[39mif\u001b[39;00m Tmin \u001b[39m>\u001b[39m Tmax:\n\u001b[1;32m--> 167\u001b[0m     \u001b[39mraise\u001b[39;00m \u001b[39mValueError\u001b[39;00m(\u001b[39m'\u001b[39m\u001b[39mT_min should be less than T_max\u001b[39m\u001b[39m'\u001b[39m)\n\u001b[0;32m    168\u001b[0m \u001b[39mif\u001b[39;00m num \u001b[39m<\u001b[39m \u001b[39m1\u001b[39m:\n\u001b[0;32m    169\u001b[0m     \u001b[39mraise\u001b[39;00m \u001b[39mValueError\u001b[39;00m(\u001b[39m'\u001b[39m\u001b[39mnum should be greater than 0\u001b[39m\u001b[39m'\u001b[39m)\n",
      "\u001b[1;31mValueError\u001b[0m: T_min should be less than T_max"
     ]
    }
   ],
   "source": [
    "model = Ising(20)\n",
    "s = ParameterSample(model)"
   ]
  },
  {
   "cell_type": "code",
   "execution_count": null,
   "metadata": {},
   "outputs": [],
   "source": [
    "p, e, m = s.sample(200)"
   ]
  },
  {
   "cell_type": "code",
   "execution_count": null,
   "metadata": {},
   "outputs": [],
   "source": [
    "from matplotlib import pyplot as plt\n",
    "import numpy as np\n",
    "plt.scatter(p,np.mean(e, axis=1))"
   ]
  },
  {
   "cell_type": "code",
   "execution_count": null,
   "metadata": {},
   "outputs": [],
   "source": [
    "plt.plot(p,np.mean(m, axis=1))"
   ]
  }
 ],
 "metadata": {
  "kernelspec": {
   "display_name": "Python 3.9.1 64-bit",
   "language": "python",
   "name": "python3"
  },
  "language_info": {
   "codemirror_mode": {
    "name": "ipython",
    "version": 3
   },
   "file_extension": ".py",
   "mimetype": "text/x-python",
   "name": "python",
   "nbconvert_exporter": "python",
   "pygments_lexer": "ipython3",
   "version": "3.9.1"
  },
  "orig_nbformat": 4,
  "vscode": {
   "interpreter": {
    "hash": "858d929d6783abd6bf03ca3868847e012e8b5e0976f67e218f6ac8fd3c4646f8"
   }
  }
 },
 "nbformat": 4,
 "nbformat_minor": 2
}
